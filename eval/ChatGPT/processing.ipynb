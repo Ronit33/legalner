{
 "cells": [
  {
   "cell_type": "code",
   "execution_count": 123,
   "metadata": {},
   "outputs": [],
   "source": [
    "import joblib\n",
    "import re\n",
    "import ast\n",
    "gpt_preds = joblib.load('gpt_preds')\n",
    "best_gpt_preds = joblib.load('best_gpt_preds')\n",
    "y_true = joblib.load('y_true')\n",
    "eps = joblib.load('eval_episodes')"
   ]
  },
  {
   "cell_type": "code",
   "execution_count": 124,
   "metadata": {},
   "outputs": [
    {
     "data": {
      "text/plain": [
       "(401, 401, 401)"
      ]
     },
     "execution_count": 124,
     "metadata": {},
     "output_type": "execute_result"
    }
   ],
   "source": [
    "len(best_gpt_preds), len(y_true), len(gpt_preds)"
   ]
  },
  {
   "cell_type": "code",
   "execution_count": 125,
   "metadata": {},
   "outputs": [
    {
     "data": {
      "text/plain": [
       "'{\"CASE_NUMBER\": [\"CWP No.6780 of 1999\"], \"DATE\": [\"20.12.2001\", \"04.08.2009\"], \"PRECEDENT\": [\"Full Bench judgment in Vijay Sharma \\'s case\", \"State of Punjab and another Vs . Surjit Singh and others ( 2009 ) 9 SCC 514\"]}'"
      ]
     },
     "execution_count": 125,
     "metadata": {},
     "output_type": "execute_result"
    }
   ],
   "source": [
    "gpt_preds[0]"
   ]
  },
  {
   "cell_type": "code",
   "execution_count": 126,
   "metadata": {},
   "outputs": [
    {
     "data": {
      "text/plain": [
       "\"{CASE_NUMBER - ['WP No.2157 of 1995', 'WP No.5650 of 1987'], PRECEDENT - ['Paupuk Kannu Anni v. Thoppayya Mudaliar']}\""
      ]
     },
     "execution_count": 126,
     "metadata": {},
     "output_type": "execute_result"
    }
   ],
   "source": [
    "best_gpt_preds[0]"
   ]
  },
  {
   "cell_type": "code",
   "execution_count": 128,
   "metadata": {},
   "outputs": [
    {
     "name": "stdout",
     "output_type": "stream",
     "text": [
      "['CASE_NUMBER', 'CASE_NUMBER', 'CASE_NUMBER', 'CASE_NUMBER', 'O', 'O', 'O', 'O', 'O', 'O', 'O', 'O', 'DATE', 'O', 'O', 'O', 'O', 'O', 'O', 'O', 'O', 'O', 'OTHER_PERSON', 'OTHER_PERSON', 'O', 'O', 'O', 'O', 'O', 'O', 'O', 'O', 'O', 'O', 'O', 'O', 'O', 'O', 'O', 'DATE', 'O', 'O', 'O', 'O', 'O', 'PRECEDENT', 'PRECEDENT', 'PRECEDENT', 'PRECEDENT', 'PRECEDENT', 'PRECEDENT', 'PRECEDENT', 'PRECEDENT', 'PRECEDENT', 'PRECEDENT', 'PRECEDENT', 'PRECEDENT', 'PRECEDENT', 'PRECEDENT', 'PRECEDENT', 'PRECEDENT', 'PRECEDENT', 'O']\n"
     ]
    }
   ],
   "source": [
    "print(y_true[0])"
   ]
  },
  {
   "cell_type": "code",
   "execution_count": 131,
   "metadata": {},
   "outputs": [],
   "source": [
    "preds = []\n",
    "true = []\n",
    "for i, p in enumerate(gpt_preds):\n",
    "    dictionary = ast.literal_eval(p)\n",
    "    preds.append(dictionary)\n",
    "    true.append(y_true[i])"
   ]
  },
  {
   "cell_type": "code",
   "execution_count": 132,
   "metadata": {},
   "outputs": [
    {
     "data": {
      "text/plain": [
       "{'CASE_NUMBER': ['CWP No.6780 of 1999'],\n",
       " 'DATE': ['20.12.2001', '04.08.2009'],\n",
       " 'PRECEDENT': [\"Full Bench judgment in Vijay Sharma 's case\",\n",
       "  'State of Punjab and another Vs . Surjit Singh and others ( 2009 ) 9 SCC 514']}"
      ]
     },
     "execution_count": 132,
     "metadata": {},
     "output_type": "execute_result"
    }
   ],
   "source": [
    "preds[0]"
   ]
  },
  {
   "cell_type": "code",
   "execution_count": 147,
   "metadata": {},
   "outputs": [],
   "source": [
    "example_label = {'CASE_NUMBER': ['CWP No.6780 of 1999'],\n",
    " 'DATE': ['20.12.2001', '04.08.2009'],\n",
    " 'PRECEDENT': [\"Full Bench judgment in Vijay Sharma 's case\",\n",
    "  'State of Punjab and another Vs . Surjit Singh and others ( 2009 ) 9 SCC 514']}\n",
    "\n",
    "tokenized_text = ['CWP', 'No.6780', 'of', '1999', 'has', 'been', 'allowed', 'by', 'the', 'Division', 'Bench', 'on', '20.12.2001', 'again', 'on', 'the', 'basis', 'of', 'Full', 'Bench', 'judgment', 'in', 'Vijay', 'Sharma', \"'s\", 'case', '(', 'supra', ')', ',', 'but', 'the', 'said', 'judgment', 'has', 'been', 'set', 'aside', 'on', '04.08.2009', 'in', 'a', 'judgment', 'reported', 'as', 'State', 'of', 'Punjab', 'and', 'another', 'Vs', '.', 'Surjit', 'Singh', 'and', 'others', '(', '2009', ')', '9', 'SCC', '514', '.']\n",
    "def structure_labels(example):\n",
    "    new_labels = {k: [] for k in example}\n",
    "    for k in example:\n",
    "        for l in example[k]:\n",
    "            new_labels[k].extend(l.split())\n",
    "    \n",
    "    return new_labels"
   ]
  },
  {
   "cell_type": "code",
   "execution_count": 149,
   "metadata": {},
   "outputs": [
    {
     "name": "stdout",
     "output_type": "stream",
     "text": [
      "{'CASE_NUMBER': ['CWP', 'No.6780', 'of', '1999'], 'DATE': ['20.12.2001', '04.08.2009'], 'PRECEDENT': ['Full', 'Bench', 'judgment', 'in', 'Vijay', 'Sharma', \"'s\", 'case', 'State', 'of', 'Punjab', 'and', 'another', 'Vs', '.', 'Surjit', 'Singh', 'and', 'others', '(', '2009', ')', '9', 'SCC', '514']}\n"
     ]
    }
   ],
   "source": [
    "print(structure_labels(example_label))"
   ]
  },
  {
   "cell_type": "code",
   "execution_count": 152,
   "metadata": {},
   "outputs": [
    {
     "name": "stdout",
     "output_type": "stream",
     "text": [
      "{'WITNESS': ['PW2', 'HC', 'Vandana']}\n"
     ]
    }
   ],
   "source": [
    "new_preds = []\n",
    "for pred in preds:\n",
    "    new_preds.append(structure_labels(pred))\n",
    "\n",
    "print(new_preds[1])"
   ]
  },
  {
   "cell_type": "code",
   "execution_count": 168,
   "metadata": {},
   "outputs": [],
   "source": [
    "# Provided entities dictionary and tokenized text\n",
    "entities_dict = {'CASE_NUMBER': ['CWP', 'No.6780', 'of', '1999'],\n",
    "                 'DATE': ['20.12.2001', '04.08.2009'],\n",
    "                 'PRECEDENT': ['Full', 'Bench', 'judgment', 'in', 'Vijay', 'Sharma', \"'s\", 'case', 'State', 'of', 'Punjab', 'and', 'another', 'Vs', '.', 'Surjit', 'Singh', 'and', 'others', '(', '2009', ')', '9', 'SCC', '514']}\n",
    "tokenized_text = ['CWP', 'No.6780', 'of', '1999', 'has', 'been', 'allowed', 'by', 'the', 'Division', 'Bench', 'on', '20.12.2001', 'again', 'on', 'the', 'basis', 'of', 'Full', 'Bench', 'judgment', 'in', 'Vijay', 'Sharma', \"'s\", 'case', '(', 'supra', ')', ',', 'but', 'the', 'said', 'judgment', 'has', 'been', 'set', 'aside', 'on', '04.08.2009', 'in', 'a', 'judgment', 'reported', 'as', 'State', 'of', 'Punjab', 'and', 'another', 'Vs', '.', 'Surjit', 'Singh', 'and', 'others', '(', '2009', ')', '9', 'SCC', '514', '.']\n",
    "\n",
    "def tokenize_labels(label_dict, text):\n",
    "    # Initialize labeled tokenized list\n",
    "    labeled_tokenized_list = []\n",
    "\n",
    "    # Iterate over tokenized text\n",
    "    for token in text:\n",
    "        token_label = 'O'\n",
    "\n",
    "        for label, entities in label_dict.items():\n",
    "            if token in entities:\n",
    "                token_label = label\n",
    "                break\n",
    "        labeled_tokenized_list.append(token_label)\n",
    "    return labeled_tokenized_list"
   ]
  },
  {
   "cell_type": "code",
   "execution_count": 169,
   "metadata": {},
   "outputs": [
    {
     "name": "stdout",
     "output_type": "stream",
     "text": [
      "['CASE_NUMBER', 'CASE_NUMBER', 'CASE_NUMBER', 'CASE_NUMBER', 'O', 'O', 'O', 'O', 'O', 'O', 'PRECEDENT', 'O', 'DATE', 'O', 'O', 'O', 'O', 'CASE_NUMBER', 'PRECEDENT', 'PRECEDENT', 'PRECEDENT', 'PRECEDENT', 'PRECEDENT', 'PRECEDENT', 'PRECEDENT', 'PRECEDENT', 'PRECEDENT', 'O', 'PRECEDENT', 'O', 'O', 'O', 'O', 'PRECEDENT', 'O', 'O', 'O', 'O', 'O', 'DATE', 'PRECEDENT', 'O', 'PRECEDENT', 'O', 'O', 'PRECEDENT', 'CASE_NUMBER', 'PRECEDENT', 'PRECEDENT', 'PRECEDENT', 'PRECEDENT', 'PRECEDENT', 'PRECEDENT', 'PRECEDENT', 'PRECEDENT', 'PRECEDENT', 'PRECEDENT', 'PRECEDENT', 'PRECEDENT', 'PRECEDENT', 'PRECEDENT', 'PRECEDENT', 'PRECEDENT']\n"
     ]
    }
   ],
   "source": [
    "print(tokenize_labels(entities_dict, tokenized_text))"
   ]
  },
  {
   "cell_type": "code",
   "execution_count": 177,
   "metadata": {},
   "outputs": [],
   "source": [
    "y_preds = []\n",
    "for i, p in enumerate(new_preds):\n",
    "    y_preds.append(tokenize_labels(p, eps[i]['query_set'][0]))"
   ]
  },
  {
   "cell_type": "code",
   "execution_count": 178,
   "metadata": {},
   "outputs": [
    {
     "data": {
      "text/plain": [
       "401"
      ]
     },
     "execution_count": 178,
     "metadata": {},
     "output_type": "execute_result"
    }
   ],
   "source": [
    "len(y_preds)"
   ]
  },
  {
   "cell_type": "code",
   "execution_count": 179,
   "metadata": {},
   "outputs": [
    {
     "data": {
      "text/plain": [
       "['y_preds']"
      ]
     },
     "execution_count": 179,
     "metadata": {},
     "output_type": "execute_result"
    }
   ],
   "source": [
    "joblib.dump(y_preds, 'y_preds')"
   ]
  },
  {
   "cell_type": "code",
   "execution_count": null,
   "metadata": {},
   "outputs": [],
   "source": []
  }
 ],
 "metadata": {
  "kernelspec": {
   "display_name": "pytorch",
   "language": "python",
   "name": "python3"
  },
  "language_info": {
   "codemirror_mode": {
    "name": "ipython",
    "version": 3
   },
   "file_extension": ".py",
   "mimetype": "text/x-python",
   "name": "python",
   "nbconvert_exporter": "python",
   "pygments_lexer": "ipython3",
   "version": "3.10.13"
  }
 },
 "nbformat": 4,
 "nbformat_minor": 2
}
