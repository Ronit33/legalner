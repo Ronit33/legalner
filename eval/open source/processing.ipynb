{
 "cells": [
  {
   "cell_type": "code",
   "execution_count": 100,
   "metadata": {},
   "outputs": [],
   "source": [
    "import joblib\n",
    "import re\n",
    "import ast\n",
    "openchat_preds = joblib.load('y_preds')\n",
    "y_true = joblib.load('y_true')"
   ]
  },
  {
   "cell_type": "code",
   "execution_count": 101,
   "metadata": {},
   "outputs": [],
   "source": [
    "eps = joblib.load('eval_episodes')"
   ]
  },
  {
   "cell_type": "code",
   "execution_count": 102,
   "metadata": {},
   "outputs": [
    {
     "name": "stdout",
     "output_type": "stream",
     "text": [
      "{'query_set': [['CWP', 'No.6780', 'of', '1999', 'has', 'been', 'allowed', 'by', 'the', 'Division', 'Bench', 'on', '20.12.2001', 'again', 'on', 'the', 'basis', 'of', 'Full', 'Bench', 'judgment', 'in', 'Vijay', 'Sharma', \"'s\", 'case', '(', 'supra', ')', ',', 'but', 'the', 'said', 'judgment', 'has', 'been', 'set', 'aside', 'on', '04.08.2009', 'in', 'a', 'judgment', 'reported', 'as', 'State', 'of', 'Punjab', 'and', 'another', 'Vs', '.', 'Surjit', 'Singh', 'and', 'others', '(', '2009', ')', '9', 'SCC', '514', '.'], ['CASE_NUMBER', 'CASE_NUMBER', 'CASE_NUMBER', 'CASE_NUMBER', 'O', 'O', 'O', 'O', 'O', 'O', 'O', 'O', 'DATE', 'O', 'O', 'O', 'O', 'O', 'O', 'O', 'O', 'O', 'OTHER_PERSON', 'OTHER_PERSON', 'O', 'O', 'O', 'O', 'O', 'O', 'O', 'O', 'O', 'O', 'O', 'O', 'O', 'O', 'O', 'DATE', 'O', 'O', 'O', 'O', 'O', 'PRECEDENT', 'PRECEDENT', 'PRECEDENT', 'PRECEDENT', 'PRECEDENT', 'PRECEDENT', 'PRECEDENT', 'PRECEDENT', 'PRECEDENT', 'PRECEDENT', 'PRECEDENT', 'PRECEDENT', 'PRECEDENT', 'PRECEDENT', 'PRECEDENT', 'PRECEDENT', 'PRECEDENT', 'O']], 'support_set': [[['Ex', '.', 'P.29', 'is', 'FSL', 'report', ',', 'wherein', 'the', 'Assistant', 'Director', 'vide', 'his', 'letter', 'dated', '19.3.2003', 'reported', 'that', 'on', 'chemical', 'examiantion', ',', 'the', 'sample', 'contained', 'in', 'the', 'packet', 'marked', 'B', 'gave', 'positive', 'tests', 'for', 'the', 'presence', 'of', 'chief', 'constituents', 'of', 'coagulated', 'juice', 'of', 'opium', 'having', '1.90', '%', '(', 'one', 'point', 'nine', 'zero', 'percent', ')', 'morphine', '.'], ['O', 'O', 'O', 'O', 'O', 'O', 'O', 'O', 'O', 'O', 'O', 'O', 'O', 'O', 'O', 'DATE', 'O', 'O', 'O', 'O', 'O', 'O', 'O', 'O', 'O', 'O', 'O', 'O', 'O', 'O', 'O', 'O', 'O', 'O', 'O', 'O', 'O', 'O', 'O', 'O', 'O', 'O', 'O', 'O', 'O', 'O', 'O', 'O', 'O', 'O', 'O', 'O', 'O', 'O', 'O', 'O']], [['As', 'observed', 'by', 'Venkatarama', 'Iyer', 'J.', 'In', \"--'Paupuk\", 'Kannu', 'Anni', 'v.', 'Thoppayya', 'Mudaliar', \"'\", ',', '(', 'J', ')', ':', ' ', 'Clause', '7(iv', ')', '.'], ['O', 'O', 'O', 'O', 'O', 'O', 'O', 'PRECEDENT', 'PRECEDENT', 'PRECEDENT', 'PRECEDENT', 'PRECEDENT', 'PRECEDENT', 'PRECEDENT', 'PRECEDENT', 'PRECEDENT', 'PRECEDENT', 'PRECEDENT', 'PRECEDENT', 'PRECEDENT', 'O', 'O', 'O', 'O']], [['Ugamchand', 'D.W.', '14', 'also', 'corroborates', 'Inderchand', 'on', 'the', 'above', 'question', 'and', 'has', 'stated', 'that', 'after', 'the', 'partition', 'in', '1934', 'alterations', 'in', 'Schedule', 'A', 'property', 'were', 'made', 'by', 'the', 'parties', 'in', 'accordance', 'with', 'its', 'terms', 'and', 'they', 'are', 'marked', 'from', '1', '-', '17', '-', 'in', 'the', 'site', 'plan', 'Ex', '.', 'A-27'], ['O', 'O', 'O', 'O', 'O', 'OTHER_PERSON', 'O', 'O', 'O', 'O', 'O', 'O', 'O', 'O', 'O', 'O', 'O', 'O', 'O', 'O', 'O', 'O', 'O', 'O', 'O', 'O', 'O', 'O', 'O', 'O', 'O', 'O', 'O', 'O', 'O', 'O', 'O', 'O', 'O', 'O', 'O', 'O', 'O', 'O', 'O', 'O', 'O', 'O', 'O', 'O']], [['In', 'WP', 'No.2157', 'of', '1995', ',', 'however', ',', 'the', 'Tribunal', 'dismissed', 'the', 'appeal', 'filed', 'by', 'the', 'operator', 'following', 'the', 'decision', 'of', 'a', 'learned', 'single', 'Judge', 'of', 'this', 'Court', 'in', 'WP', 'No.5650', 'of', '1987', '.'], ['O', 'CASE_NUMBER', 'CASE_NUMBER', 'CASE_NUMBER', 'CASE_NUMBER', 'O', 'O', 'O', 'O', 'O', 'O', 'O', 'O', 'O', 'O', 'O', 'O', 'O', 'O', 'O', 'O', 'O', 'O', 'O', 'O', 'O', 'O', 'O', 'O', 'CASE_NUMBER', 'CASE_NUMBER', 'CASE_NUMBER', 'CASE_NUMBER', 'O']]]}\n"
     ]
    }
   ],
   "source": [
    "print(eps[0])"
   ]
  },
  {
   "cell_type": "code",
   "execution_count": 103,
   "metadata": {},
   "outputs": [
    {
     "data": {
      "text/plain": [
       "\"{'DATE': ['20.12.2001', '04.08.2009'], 'CASE_NUMBER': ['CWP No.6780 of 1999'], 'OTHER_PERSON': ['Surjit Singh and others']}\""
      ]
     },
     "execution_count": 103,
     "metadata": {},
     "output_type": "execute_result"
    }
   ],
   "source": [
    "openchat_preds[0]"
   ]
  },
  {
   "cell_type": "code",
   "execution_count": 104,
   "metadata": {},
   "outputs": [
    {
     "name": "stdout",
     "output_type": "stream",
     "text": [
      "['CASE_NUMBER', 'CASE_NUMBER', 'CASE_NUMBER', 'CASE_NUMBER', 'O', 'O', 'O', 'O', 'O', 'O', 'O', 'O', 'DATE', 'O', 'O', 'O', 'O', 'O', 'O', 'O', 'O', 'O', 'OTHER_PERSON', 'OTHER_PERSON', 'O', 'O', 'O', 'O', 'O', 'O', 'O', 'O', 'O', 'O', 'O', 'O', 'O', 'O', 'O', 'DATE', 'O', 'O', 'O', 'O', 'O', 'PRECEDENT', 'PRECEDENT', 'PRECEDENT', 'PRECEDENT', 'PRECEDENT', 'PRECEDENT', 'PRECEDENT', 'PRECEDENT', 'PRECEDENT', 'PRECEDENT', 'PRECEDENT', 'PRECEDENT', 'PRECEDENT', 'PRECEDENT', 'PRECEDENT', 'PRECEDENT', 'PRECEDENT', 'O']\n"
     ]
    }
   ],
   "source": [
    "print(y_true[0])"
   ]
  },
  {
   "cell_type": "code",
   "execution_count": 105,
   "metadata": {},
   "outputs": [
    {
     "name": "stdout",
     "output_type": "stream",
     "text": [
      "{'COURT': 'Apex Court', 'STATUTE': 'Central Excise Act, 1944', 'PRECEDENT': 'Government of India v. Madras Rubber Factory Ltd.', 'PROVISION': 'section 4(4)(d)(ii )'\n",
      "----------------------------------------------------------------------------------------------------\n",
      "{'ORG': 'Central Excises and Salt Act, 1944', 'GPE': 'Vishakhapatnam', 'OTHER_PERSON': 'the petitioners', 'DATE': '1.3.1969', 'STATUTE': 'the Act', 'OTHER_PERSON': 'Gromor NPK 14 : 35 : 14'\n",
      "----------------------------------------------------------------------------------------------------\n",
      "{'COURT': 'State vs. Talewar & Ors.', 'DATE': 'FIR No. 139/08 8/26', 'JUDGE': 'PW9', 'PETITIONER': 'O', 'RESPONDENT': 'O', 'CASE_NUMBER': '14', 'OTHER_PERSON': 'Dr. Shiv Prasad, Sr. Resident AIIMS hospital is PW9', 'PRECEDENT': 'O', 'ORG': 'AIIMS hospital'\n",
      "----------------------------------------------------------------------------------------------------\n"
     ]
    }
   ],
   "source": [
    "for i, p in enumerate(openchat_preds):\n",
    "    if p[0]!='{' or p[-1]!='}':\n",
    "        openchat_preds[i] = p+'}'\n",
    "        print(p)\n",
    "        print('-'*100)"
   ]
  },
  {
   "cell_type": "code",
   "execution_count": 106,
   "metadata": {},
   "outputs": [],
   "source": [
    "for p in openchat_preds:\n",
    "    if p[0]!='{' or p[-1]!='}':\n",
    "        print(p)\n",
    "        print('-'*100)"
   ]
  },
  {
   "cell_type": "code",
   "execution_count": 108,
   "metadata": {},
   "outputs": [
    {
     "name": "stdout",
     "output_type": "stream",
     "text": [
      "{'COURT': 'Another Division Bench', 'DATE': '02.04.1998', 'CASE_NUMBER': 'CWP No.4405 of 1998', 'OTHER_PERSON': 'Manju Jain & another', 'ORG': 'Haryana Urban Development Authority & others', 'PRECEDENT': 'Aruna Luthra 's case ( supra )'}\n",
      "{'DATE': ['25th January , 1946'], 'ORG': ['Congregation of the Apostolic Caramel South Kanara', 'Mangalore', 'British India', 'Patna Women 's College', 'Patna'], 'GPE': ['Bihar']}\n",
      "{'DATE': [], 'COURT': ['Supreme Court'], 'ORG': ['Cambay Electric Supply Industrial Co. Ltd.', 'Cloth Traders (P) Ltd.'], 'CASE_NUMBER': [], 'STATUTE': ['sections 80 M , 80E and 80AA of the Act', 'section 80HHC'], 'PRECEDENT': ['Cambay Electric Supply Industrial Co. Ltd. 's case ( supra )', 'Cloth Traders ( P ) Ltd. v. Addl . CIT ( 1979 ) 118 ITR 243 ( )']}\n",
      "{'COURT': 'this Court', 'DATE': '( 1967 BLJR 439 )', 'JUDGE': 'Narasimham , C.J. and A.B. N. Sinha , J.', 'CASE_NUMBER': 'In Satya Nand Singh 's case', 'PRECEDENT': 'earlier two Bench decisions of this Court', 'OTHER_PERSON': ''}\n",
      "{'COURT': 'Division Bench at Nagpur', 'DATE': '20/7/2011', 'PRECEDENT': 'W.P. 5332 of 2004', 'OTHER_PERSON': 'J.', 'B.P. Dharmadhikari'}\n",
      "{'DATE': '28.10.2004', 'CASE_NUMBER': None, 'STATUTE': 'Indian Penal Code ( ` IPC ' - for short )', 'PROVISION': 'Section 302', 'PETITIONER': 'Sukhwinder Singh alias Binder'}\n"
     ]
    }
   ],
   "source": [
    "preds = []\n",
    "true = []\n",
    "new_eps = []\n",
    "for i, p in enumerate(openchat_preds):\n",
    "    try:\n",
    "        dictionary = ast.literal_eval(p)\n",
    "        preds.append(dictionary)\n",
    "        true.append(y_true[i])\n",
    "        new_eps.append(eps[i])\n",
    "    except:\n",
    "        print(p)"
   ]
  },
  {
   "cell_type": "code",
   "execution_count": 110,
   "metadata": {},
   "outputs": [
    {
     "data": {
      "text/plain": [
       "(395, 395, 395)"
      ]
     },
     "execution_count": 110,
     "metadata": {},
     "output_type": "execute_result"
    }
   ],
   "source": [
    "len(preds), len(true), len(new_eps)"
   ]
  },
  {
   "cell_type": "code",
   "execution_count": 111,
   "metadata": {},
   "outputs": [
    {
     "data": {
      "text/plain": [
       "{'DATE': ['20.12.2001', '04.08.2009'],\n",
       " 'CASE_NUMBER': ['CWP No.6780 of 1999'],\n",
       " 'OTHER_PERSON': ['Surjit Singh and others']}"
      ]
     },
     "execution_count": 111,
     "metadata": {},
     "output_type": "execute_result"
    }
   ],
   "source": [
    "preds[0]"
   ]
  },
  {
   "cell_type": "code",
   "execution_count": 112,
   "metadata": {},
   "outputs": [],
   "source": [
    "for i, p in enumerate(preds):\n",
    "    for k in p:\n",
    "        if type(p[k])!=list:\n",
    "            p[k] = [p[k]]"
   ]
  },
  {
   "cell_type": "code",
   "execution_count": 113,
   "metadata": {},
   "outputs": [],
   "source": [
    "for i, p in enumerate(preds):\n",
    "    for k in p:\n",
    "        if type(p[k])!=list:\n",
    "            print(p)"
   ]
  },
  {
   "cell_type": "code",
   "execution_count": 114,
   "metadata": {},
   "outputs": [],
   "source": [
    "example_label = {'DATE': ['20.12.2001', '04.08.2009'],\n",
    " 'CASE_NUMBER': ['CWP No.6780 of 1999'],\n",
    " 'OTHER_PERSON': ['Surjit Singh and others']}\n",
    "\n",
    "def structure_labels(example):\n",
    "    new_labels = {k: [] for k in example}\n",
    "    for k in example:\n",
    "        if len(example[k])>0:\n",
    "            for l in example[k]:\n",
    "                if type(l)==str:\n",
    "                    new_labels[k].extend(l.split())\n",
    "    \n",
    "    return new_labels"
   ]
  },
  {
   "cell_type": "code",
   "execution_count": 115,
   "metadata": {},
   "outputs": [
    {
     "name": "stdout",
     "output_type": "stream",
     "text": [
      "{'DATE': ['20.12.2001', '04.08.2009'], 'CASE_NUMBER': ['CWP', 'No.6780', 'of', '1999'], 'OTHER_PERSON': ['Surjit', 'Singh', 'and', 'others']}\n"
     ]
    }
   ],
   "source": [
    "print(structure_labels(example_label))"
   ]
  },
  {
   "cell_type": "code",
   "execution_count": 116,
   "metadata": {},
   "outputs": [
    {
     "name": "stdout",
     "output_type": "stream",
     "text": [
      "{'DATE': ['20.12.2001', '04.08.2009'], 'CASE_NUMBER': ['CWP', 'No.6780', 'of', '1999'], 'OTHER_PERSON': ['Surjit', 'Singh', 'and', 'others']}\n"
     ]
    }
   ],
   "source": [
    "new_preds = []\n",
    "for pred in preds:\n",
    "    new_preds.append(structure_labels(pred))\n",
    "\n",
    "print(new_preds[0])"
   ]
  },
  {
   "cell_type": "code",
   "execution_count": 117,
   "metadata": {},
   "outputs": [
    {
     "data": {
      "text/plain": [
       "(395, 395)"
      ]
     },
     "execution_count": 117,
     "metadata": {},
     "output_type": "execute_result"
    }
   ],
   "source": [
    "len(new_preds), len(true)"
   ]
  },
  {
   "cell_type": "code",
   "execution_count": 118,
   "metadata": {},
   "outputs": [],
   "source": [
    "entities_dict = {'DATE': ['20.12.2001', '04.08.2009'], 'CASE_NUMBER': ['CWP', 'No.6780', 'of', '1999'], 'OTHER_PERSON': ['Surjit', 'Singh', 'and', 'others']}\n",
    "tokenized_text = ['CWP', 'No.6780', 'of', '1999', 'has', 'been', 'allowed', 'by', 'the', 'Division', 'Bench', 'on', '20.12.2001', 'again', 'on', 'the', 'basis', 'of', 'Full', 'Bench', 'judgment', 'in', 'Vijay', 'Sharma', \"'s\", 'case', '(', 'supra', ')', ',', 'but', 'the', 'said', 'judgment', 'has', 'been', 'set', 'aside', 'on', '04.08.2009', 'in', 'a', 'judgment', 'reported', 'as', 'State', 'of', 'Punjab', 'and', 'another', 'Vs', '.', 'Surjit', 'Singh', 'and', 'others', '(', '2009', ')', '9', 'SCC', '514', '.']\n",
    "\n",
    "def tokenize_labels(label_dict, text):\n",
    "    # Initialize labeled tokenized list\n",
    "    labeled_tokenized_list = []\n",
    "\n",
    "    # Iterate over tokenized text\n",
    "    for token in text:\n",
    "        token_label = 'O'\n",
    "\n",
    "        for label, entities in label_dict.items():\n",
    "            if token in entities:\n",
    "                token_label = label\n",
    "                break\n",
    "        labeled_tokenized_list.append(token_label)\n",
    "    return labeled_tokenized_list"
   ]
  },
  {
   "cell_type": "code",
   "execution_count": 119,
   "metadata": {},
   "outputs": [
    {
     "name": "stdout",
     "output_type": "stream",
     "text": [
      "['CASE_NUMBER', 'CASE_NUMBER', 'CASE_NUMBER', 'CASE_NUMBER', 'O', 'O', 'O', 'O', 'O', 'O', 'O', 'O', 'DATE', 'O', 'O', 'O', 'O', 'CASE_NUMBER', 'O', 'O', 'O', 'O', 'O', 'O', 'O', 'O', 'O', 'O', 'O', 'O', 'O', 'O', 'O', 'O', 'O', 'O', 'O', 'O', 'O', 'DATE', 'O', 'O', 'O', 'O', 'O', 'O', 'CASE_NUMBER', 'O', 'OTHER_PERSON', 'O', 'O', 'O', 'OTHER_PERSON', 'OTHER_PERSON', 'OTHER_PERSON', 'OTHER_PERSON', 'O', 'O', 'O', 'O', 'O', 'O', 'O']\n"
     ]
    }
   ],
   "source": [
    "print(tokenize_labels(entities_dict, tokenized_text))"
   ]
  },
  {
   "cell_type": "code",
   "execution_count": 120,
   "metadata": {},
   "outputs": [],
   "source": [
    "y_preds = []\n",
    "for i, p in enumerate(new_preds):\n",
    "    y_preds.append(tokenize_labels(p, new_eps[i]['query_set'][0]))"
   ]
  },
  {
   "cell_type": "code",
   "execution_count": 121,
   "metadata": {},
   "outputs": [
    {
     "data": {
      "text/plain": [
       "395"
      ]
     },
     "execution_count": 121,
     "metadata": {},
     "output_type": "execute_result"
    }
   ],
   "source": [
    "len(y_preds)"
   ]
  },
  {
   "cell_type": "code",
   "execution_count": 122,
   "metadata": {},
   "outputs": [
    {
     "data": {
      "text/plain": [
       "['truths']"
      ]
     },
     "execution_count": 122,
     "metadata": {},
     "output_type": "execute_result"
    }
   ],
   "source": [
    "joblib.dump(y_preds, 'predictions')\n",
    "joblib.dump(true, 'truths')"
   ]
  },
  {
   "cell_type": "code",
   "execution_count": null,
   "metadata": {},
   "outputs": [],
   "source": []
  }
 ],
 "metadata": {
  "kernelspec": {
   "display_name": "pytorch",
   "language": "python",
   "name": "python3"
  },
  "language_info": {
   "codemirror_mode": {
    "name": "ipython",
    "version": 3
   },
   "file_extension": ".py",
   "mimetype": "text/x-python",
   "name": "python",
   "nbconvert_exporter": "python",
   "pygments_lexer": "ipython3",
   "version": "3.10.13"
  }
 },
 "nbformat": 4,
 "nbformat_minor": 2
}
